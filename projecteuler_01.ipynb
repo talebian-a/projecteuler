{
 "cells": [
  {
   "cell_type": "markdown",
   "metadata": {},
   "source": [
    "## Project Euler\n",
    "### [problem 1](https://projecteuler.net/problem=1)"
   ]
  },
  {
   "cell_type": "code",
   "execution_count": 1,
   "metadata": {},
   "outputs": [
    {
     "name": "stdout",
     "output_type": "stream",
     "text": [
      "233168\n"
     ]
    }
   ],
   "source": [
    "# div function come back true if n is multiplies of m:\n",
    "def div(n,m):\n",
    "    val = False\n",
    "    if n % m == 0:\n",
    "        val = True\n",
    "    return val\n",
    "\n",
    "##n = 10\n",
    "##m = 3\n",
    "##\n",
    "##if div(n, m):\n",
    "##    print (n, \"is multiplies of \" , m)\n",
    "##else:\n",
    "##    print (n, \"is NOT multiplies of \" , m)\n",
    "\n",
    "sum = 0\n",
    "\n",
    "for i in range (1, 1000):\n",
    "    if div(i, 5) or div(i, 3):\n",
    "        sum += i\n",
    "\n",
    "print(sum)"
   ]
  }
 ],
 "metadata": {
  "kernelspec": {
   "display_name": "Python 3",
   "language": "python",
   "name": "python3"
  },
  "language_info": {
   "codemirror_mode": {
    "name": "ipython",
    "version": 3
   },
   "file_extension": ".py",
   "mimetype": "text/x-python",
   "name": "python",
   "nbconvert_exporter": "python",
   "pygments_lexer": "ipython3",
   "version": "3.8.5"
  }
 },
 "nbformat": 4,
 "nbformat_minor": 4
}
